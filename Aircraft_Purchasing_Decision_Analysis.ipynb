{
 "cells": [
  {
   "cell_type": "markdown",
   "metadata": {},
   "source": [
    "# Aviation Risk Analysis Project"
   ]
  },
  {
   "cell_type": "markdown",
   "metadata": {},
   "source": [
    "## Project Overview"
   ]
  },
  {
   "cell_type": "markdown",
   "metadata": {},
   "source": [
    "In the US court systems, the average compensation for a life lost in a general aviation accident is $5.2 million dollars, the highest in the world!<sup>1</sup> \n",
    "\n",
    "This project presents analysis of past aviation accidents based on how the aircraft was built. Our team reviews and processes the data to generate insights for Jelly Co. and ultimately provides airplane purchasing reccomendations. \n",
    "\n",
    "\n",
    "<sup>1</sup>*[Article](https://www.keystonelaw.com/keynotes/how-is-compensation-calculated-after-an-aviation-accident) written by Healy-Pratt and Hanna in 2021*"
   ]
  },
  {
   "cell_type": "markdown",
   "metadata": {},
   "source": [
    "![airplane](https://storage.googleapis.com/mcp_acc_236blog/uploads/2014/11/018067-vroeg-II1-1920x1080.jpg)\n",
    "\n",
    "<span>Photo by Andres Bolkenbaas on <a href=\"https://blog.klm.com/6-tips-for-creative-aviation-photography/\">blog.klm.com</a></span>\n"
   ]
  },
  {
   "cell_type": "markdown",
   "metadata": {},
   "source": [
    "## Business Problem"
   ]
  },
  {
   "cell_type": "markdown",
   "metadata": {},
   "source": [
    "Jelly Co. is expanding it's business to new industries. They asked our team to look into the data for airplane accidents<sup>1</sup> within the US in the last twenty-odd years. The company wants to know:\n",
    "\n",
    "1. Which airplane feature helps assess the lowest possible risk to the company? \n",
    "2. Which airplane manufacturer should be purchased and operated for a commercial enterprise? \n",
    "3. Which airplane manufacturer should be purchased and operated for a private enterprise? \n",
    "    \n",
    "\n",
    "\n",
    "<sup>1</sup>*Here we are using the [definition](https://www.faa.gov/faq/what-constitutes-post-accident-test-what-definition-accident#:~:text=The%20FAA%20and%20the%20National,any%20person%20suffers%20death%20or) of accident: \"an occurrence associated with the operation of an aircraft which takes place between the time any person boards the aircraft with the intention of flight and all such persons have disembarked, AND in which any person suffers death or serious injury or in which the aircraft receives substantial damage\"*"
   ]
  },
  {
   "cell_type": "markdown",
   "metadata": {},
   "source": [
    "## Data Understanding"
   ]
  },
  {
   "cell_type": "markdown",
   "metadata": {},
   "source": [
    "For this project a [dataset](https://www.kaggle.com/datasets/khsamaha/aviation-accident-database-synopses) was taken from the National Transportation Safety Board that includes:\n",
    "\n",
    "- Aviation accident data from 1962 to 2023 \n",
    "- Civil aviation accidents \n",
    "- Selected incidents in the United States and international waters\n",
    "\n",
    "The entire dataset contains 90348 records and 31 columns. Let's explore the processes done on the dataset.\n",
    "\n",
    "1. Data Preparation\n",
    "2. Data Cleaning\n",
    "2. Data Visualization\n",
    "3. Data Analysis"
   ]
  },
  {
   "cell_type": "markdown",
   "metadata": {},
   "source": [
    "## 1. Data Preparation"
   ]
  },
  {
   "cell_type": "markdown",
   "metadata": {},
   "source": [
    "In this section:\n",
    "- The necessary python libraries are imported and read through\n",
    "- The .head() is used to show a sample of the data we are working with"
   ]
  },
  {
   "cell_type": "code",
   "execution_count": 1,
   "metadata": {
    "scrolled": true
   },
   "outputs": [
    {
     "data": {
      "text/html": [
       "<div>\n",
       "<style scoped>\n",
       "    .dataframe tbody tr th:only-of-type {\n",
       "        vertical-align: middle;\n",
       "    }\n",
       "\n",
       "    .dataframe tbody tr th {\n",
       "        vertical-align: top;\n",
       "    }\n",
       "\n",
       "    .dataframe thead th {\n",
       "        text-align: right;\n",
       "    }\n",
       "</style>\n",
       "<table border=\"1\" class=\"dataframe\">\n",
       "  <thead>\n",
       "    <tr style=\"text-align: right;\">\n",
       "      <th></th>\n",
       "      <th>Event.Id</th>\n",
       "      <th>Investigation.Type</th>\n",
       "      <th>Accident.Number</th>\n",
       "      <th>Event.Date</th>\n",
       "      <th>Location</th>\n",
       "      <th>Country</th>\n",
       "      <th>Latitude</th>\n",
       "      <th>Longitude</th>\n",
       "      <th>Airport.Code</th>\n",
       "      <th>Airport.Name</th>\n",
       "      <th>Injury.Severity</th>\n",
       "      <th>Aircraft.damage</th>\n",
       "      <th>Aircraft.Category</th>\n",
       "      <th>Registration.Number</th>\n",
       "      <th>Make</th>\n",
       "      <th>Model</th>\n",
       "      <th>Amateur.Built</th>\n",
       "      <th>Number.of.Engines</th>\n",
       "      <th>Engine.Type</th>\n",
       "      <th>FAR.Description</th>\n",
       "      <th>Schedule</th>\n",
       "      <th>Purpose.of.flight</th>\n",
       "      <th>Air.carrier</th>\n",
       "      <th>Total.Fatal.Injuries</th>\n",
       "      <th>Total.Serious.Injuries</th>\n",
       "      <th>Total.Minor.Injuries</th>\n",
       "      <th>Total.Uninjured</th>\n",
       "      <th>Weather.Condition</th>\n",
       "      <th>Broad.phase.of.flight</th>\n",
       "      <th>Report.Status</th>\n",
       "      <th>Publication.Date</th>\n",
       "    </tr>\n",
       "  </thead>\n",
       "  <tbody>\n",
       "    <tr>\n",
       "      <th>0</th>\n",
       "      <td>20001218X45444</td>\n",
       "      <td>Accident</td>\n",
       "      <td>SEA87LA080</td>\n",
       "      <td>1948-10-24</td>\n",
       "      <td>MOOSE CREEK, ID</td>\n",
       "      <td>United States</td>\n",
       "      <td>NaN</td>\n",
       "      <td>NaN</td>\n",
       "      <td>NaN</td>\n",
       "      <td>NaN</td>\n",
       "      <td>Fatal(2)</td>\n",
       "      <td>Destroyed</td>\n",
       "      <td>NaN</td>\n",
       "      <td>NC6404</td>\n",
       "      <td>Stinson</td>\n",
       "      <td>108-3</td>\n",
       "      <td>No</td>\n",
       "      <td>1.0</td>\n",
       "      <td>Reciprocating</td>\n",
       "      <td>NaN</td>\n",
       "      <td>NaN</td>\n",
       "      <td>Personal</td>\n",
       "      <td>NaN</td>\n",
       "      <td>2.0</td>\n",
       "      <td>0.0</td>\n",
       "      <td>0.0</td>\n",
       "      <td>0.0</td>\n",
       "      <td>UNK</td>\n",
       "      <td>Cruise</td>\n",
       "      <td>Probable Cause</td>\n",
       "      <td>NaN</td>\n",
       "    </tr>\n",
       "    <tr>\n",
       "      <th>1</th>\n",
       "      <td>20001218X45447</td>\n",
       "      <td>Accident</td>\n",
       "      <td>LAX94LA336</td>\n",
       "      <td>1962-07-19</td>\n",
       "      <td>BRIDGEPORT, CA</td>\n",
       "      <td>United States</td>\n",
       "      <td>NaN</td>\n",
       "      <td>NaN</td>\n",
       "      <td>NaN</td>\n",
       "      <td>NaN</td>\n",
       "      <td>Fatal(4)</td>\n",
       "      <td>Destroyed</td>\n",
       "      <td>NaN</td>\n",
       "      <td>N5069P</td>\n",
       "      <td>Piper</td>\n",
       "      <td>PA24-180</td>\n",
       "      <td>No</td>\n",
       "      <td>1.0</td>\n",
       "      <td>Reciprocating</td>\n",
       "      <td>NaN</td>\n",
       "      <td>NaN</td>\n",
       "      <td>Personal</td>\n",
       "      <td>NaN</td>\n",
       "      <td>4.0</td>\n",
       "      <td>0.0</td>\n",
       "      <td>0.0</td>\n",
       "      <td>0.0</td>\n",
       "      <td>UNK</td>\n",
       "      <td>Unknown</td>\n",
       "      <td>Probable Cause</td>\n",
       "      <td>19-09-1996</td>\n",
       "    </tr>\n",
       "    <tr>\n",
       "      <th>2</th>\n",
       "      <td>20061025X01555</td>\n",
       "      <td>Accident</td>\n",
       "      <td>NYC07LA005</td>\n",
       "      <td>1974-08-30</td>\n",
       "      <td>Saltville, VA</td>\n",
       "      <td>United States</td>\n",
       "      <td>36.922223</td>\n",
       "      <td>-81.878056</td>\n",
       "      <td>NaN</td>\n",
       "      <td>NaN</td>\n",
       "      <td>Fatal(3)</td>\n",
       "      <td>Destroyed</td>\n",
       "      <td>NaN</td>\n",
       "      <td>N5142R</td>\n",
       "      <td>Cessna</td>\n",
       "      <td>172M</td>\n",
       "      <td>No</td>\n",
       "      <td>1.0</td>\n",
       "      <td>Reciprocating</td>\n",
       "      <td>NaN</td>\n",
       "      <td>NaN</td>\n",
       "      <td>Personal</td>\n",
       "      <td>NaN</td>\n",
       "      <td>3.0</td>\n",
       "      <td>NaN</td>\n",
       "      <td>NaN</td>\n",
       "      <td>NaN</td>\n",
       "      <td>IMC</td>\n",
       "      <td>Cruise</td>\n",
       "      <td>Probable Cause</td>\n",
       "      <td>26-02-2007</td>\n",
       "    </tr>\n",
       "    <tr>\n",
       "      <th>3</th>\n",
       "      <td>20001218X45448</td>\n",
       "      <td>Accident</td>\n",
       "      <td>LAX96LA321</td>\n",
       "      <td>1977-06-19</td>\n",
       "      <td>EUREKA, CA</td>\n",
       "      <td>United States</td>\n",
       "      <td>NaN</td>\n",
       "      <td>NaN</td>\n",
       "      <td>NaN</td>\n",
       "      <td>NaN</td>\n",
       "      <td>Fatal(2)</td>\n",
       "      <td>Destroyed</td>\n",
       "      <td>NaN</td>\n",
       "      <td>N1168J</td>\n",
       "      <td>Rockwell</td>\n",
       "      <td>112</td>\n",
       "      <td>No</td>\n",
       "      <td>1.0</td>\n",
       "      <td>Reciprocating</td>\n",
       "      <td>NaN</td>\n",
       "      <td>NaN</td>\n",
       "      <td>Personal</td>\n",
       "      <td>NaN</td>\n",
       "      <td>2.0</td>\n",
       "      <td>0.0</td>\n",
       "      <td>0.0</td>\n",
       "      <td>0.0</td>\n",
       "      <td>IMC</td>\n",
       "      <td>Cruise</td>\n",
       "      <td>Probable Cause</td>\n",
       "      <td>12-09-2000</td>\n",
       "    </tr>\n",
       "    <tr>\n",
       "      <th>4</th>\n",
       "      <td>20041105X01764</td>\n",
       "      <td>Accident</td>\n",
       "      <td>CHI79FA064</td>\n",
       "      <td>1979-08-02</td>\n",
       "      <td>Canton, OH</td>\n",
       "      <td>United States</td>\n",
       "      <td>NaN</td>\n",
       "      <td>NaN</td>\n",
       "      <td>NaN</td>\n",
       "      <td>NaN</td>\n",
       "      <td>Fatal(1)</td>\n",
       "      <td>Destroyed</td>\n",
       "      <td>NaN</td>\n",
       "      <td>N15NY</td>\n",
       "      <td>Cessna</td>\n",
       "      <td>501</td>\n",
       "      <td>No</td>\n",
       "      <td>NaN</td>\n",
       "      <td>NaN</td>\n",
       "      <td>NaN</td>\n",
       "      <td>NaN</td>\n",
       "      <td>Personal</td>\n",
       "      <td>NaN</td>\n",
       "      <td>1.0</td>\n",
       "      <td>2.0</td>\n",
       "      <td>NaN</td>\n",
       "      <td>0.0</td>\n",
       "      <td>VMC</td>\n",
       "      <td>Approach</td>\n",
       "      <td>Probable Cause</td>\n",
       "      <td>16-04-1980</td>\n",
       "    </tr>\n",
       "  </tbody>\n",
       "</table>\n",
       "</div>"
      ],
      "text/plain": [
       "         Event.Id Investigation.Type Accident.Number  Event.Date  \\\n",
       "0  20001218X45444           Accident      SEA87LA080  1948-10-24   \n",
       "1  20001218X45447           Accident      LAX94LA336  1962-07-19   \n",
       "2  20061025X01555           Accident      NYC07LA005  1974-08-30   \n",
       "3  20001218X45448           Accident      LAX96LA321  1977-06-19   \n",
       "4  20041105X01764           Accident      CHI79FA064  1979-08-02   \n",
       "\n",
       "          Location        Country   Latitude   Longitude Airport.Code  \\\n",
       "0  MOOSE CREEK, ID  United States        NaN         NaN          NaN   \n",
       "1   BRIDGEPORT, CA  United States        NaN         NaN          NaN   \n",
       "2    Saltville, VA  United States  36.922223  -81.878056          NaN   \n",
       "3       EUREKA, CA  United States        NaN         NaN          NaN   \n",
       "4       Canton, OH  United States        NaN         NaN          NaN   \n",
       "\n",
       "  Airport.Name Injury.Severity Aircraft.damage Aircraft.Category  \\\n",
       "0          NaN        Fatal(2)       Destroyed               NaN   \n",
       "1          NaN        Fatal(4)       Destroyed               NaN   \n",
       "2          NaN        Fatal(3)       Destroyed               NaN   \n",
       "3          NaN        Fatal(2)       Destroyed               NaN   \n",
       "4          NaN        Fatal(1)       Destroyed               NaN   \n",
       "\n",
       "  Registration.Number      Make     Model Amateur.Built  Number.of.Engines  \\\n",
       "0              NC6404   Stinson     108-3            No                1.0   \n",
       "1              N5069P     Piper  PA24-180            No                1.0   \n",
       "2              N5142R    Cessna      172M            No                1.0   \n",
       "3              N1168J  Rockwell       112            No                1.0   \n",
       "4               N15NY    Cessna       501            No                NaN   \n",
       "\n",
       "     Engine.Type FAR.Description Schedule Purpose.of.flight Air.carrier  \\\n",
       "0  Reciprocating             NaN      NaN          Personal         NaN   \n",
       "1  Reciprocating             NaN      NaN          Personal         NaN   \n",
       "2  Reciprocating             NaN      NaN          Personal         NaN   \n",
       "3  Reciprocating             NaN      NaN          Personal         NaN   \n",
       "4            NaN             NaN      NaN          Personal         NaN   \n",
       "\n",
       "   Total.Fatal.Injuries  Total.Serious.Injuries  Total.Minor.Injuries  \\\n",
       "0                   2.0                     0.0                   0.0   \n",
       "1                   4.0                     0.0                   0.0   \n",
       "2                   3.0                     NaN                   NaN   \n",
       "3                   2.0                     0.0                   0.0   \n",
       "4                   1.0                     2.0                   NaN   \n",
       "\n",
       "   Total.Uninjured Weather.Condition Broad.phase.of.flight   Report.Status  \\\n",
       "0              0.0               UNK                Cruise  Probable Cause   \n",
       "1              0.0               UNK               Unknown  Probable Cause   \n",
       "2              NaN               IMC                Cruise  Probable Cause   \n",
       "3              0.0               IMC                Cruise  Probable Cause   \n",
       "4              0.0               VMC              Approach  Probable Cause   \n",
       "\n",
       "  Publication.Date  \n",
       "0              NaN  \n",
       "1       19-09-1996  \n",
       "2       26-02-2007  \n",
       "3       12-09-2000  \n",
       "4       16-04-1980  "
      ]
     },
     "execution_count": 1,
     "metadata": {},
     "output_type": "execute_result"
    }
   ],
   "source": [
    "## Import python libraries\n",
    "\n",
    "import numpy as np\n",
    "import pandas as pd\n",
    "import matplotlib.pyplot as plt\n",
    "%matplotlib inline \n",
    "\n",
    "## Read the dataset using pandas library\n",
    "\n",
    "df = pd.read_csv(\"data/Aviation_Data.csv\", low_memory=False)\n",
    "\n",
    "\n",
    "\n",
    "## Display information for the first 5 events\n",
    "\n",
    "pd.set_option('display.max_columns', None)\n",
    "\n",
    "df.head()"
   ]
  },
  {
   "cell_type": "markdown",
   "metadata": {},
   "source": [
    "## 2. Data Cleaning\n",
    "\n",
    "Overall steps for this section:\n",
    "- Check for duplicates\n",
    "- Filter raw data by relevancy to business problem\n",
    "- Address missing values\n",
    "- Standardization of capitalization\n",
    "- Keep columns necessary to answer business problem "
   ]
  },
  {
   "cell_type": "markdown",
   "metadata": {},
   "source": [
    "Check for dupliactes and drop the duplicated values if present."
   ]
  },
  {
   "cell_type": "code",
   "execution_count": 2,
   "metadata": {
    "scrolled": true
   },
   "outputs": [
    {
     "name": "stdout",
     "output_type": "stream",
     "text": [
      "1390\n"
     ]
    }
   ],
   "source": [
    "## Print the total number of duplicates in the dataset\n",
    "\n",
    "print(df.duplicated().sum())"
   ]
  },
  {
   "cell_type": "code",
   "execution_count": 3,
   "metadata": {
    "scrolled": true
   },
   "outputs": [
    {
     "name": "stdout",
     "output_type": "stream",
     "text": [
      "0\n"
     ]
    }
   ],
   "source": [
    "## Drop the number of duplicates in the dataset\n",
    "\n",
    "unique_df = df.drop_duplicates(ignore_index=False)\n",
    "\n",
    "\n",
    "## Verify duplicates were dropped by printing the number of duplicates in the dataset\n",
    "\n",
    "print(unique_df.duplicated().sum())"
   ]
  },
  {
   "cell_type": "markdown",
   "metadata": {},
   "source": [
    "Filter out the rows where the values in the _Aircraft.Category_ and \n",
    "_Purpose.of.flight_ columns are not in the specified lists Aircraft_categories and Flight_purpose.\n",
    "\n",
    "Justifications for filtering raw data:\n",
    "- Jelly Co. company is interested in Accidents over Incidents because Incidents is concerned with the operation of the aircraft whereas Accidents is concerned with the operation of the aircaraft as well as the safety of the passengers as defined by the Federal Aviation Administration and the National Transportation Safety Board.\n",
    "- Our company is interested in flights within the United States.\n",
    "- Our company is interested in the data after the new safety regulations were set in place by TSA in November 2001.\n",
    "- Our company is interested in purchasing only airplanes.\n",
    "- Our company is interested in Purpose of flight data that is related to commercial and private airplanes. \n"
   ]
  },
  {
   "cell_type": "code",
   "execution_count": 4,
   "metadata": {},
   "outputs": [],
   "source": [
    "## Filter dataset for Investigation Type, Country, Event Date, Aircraft category, and Purpose of flight\n",
    "\n",
    "\n",
    "Aircraft_categories = ['Helicopter', 'Glider', 'Balloon', 'Gyrocraft', 'Weight-Shift', 'Powered Parachute', \n",
    "                       'Ultralight', 'WSFT', 'Powered-Lift', 'Blimp', 'ULTR', 'Rocket']\n",
    "Flight_purpose = ['Instructional', 'Aerial Application', 'Positioning', 'Ferry', 'Aerial Observation', \n",
    "                  'Flight Test', 'Skydiving', 'External Load', 'Banner Tow', 'Air Race show', 'Air Race/show', \n",
    "                  'Glider Tow', 'Firefighting', 'Air Drop', 'ASHO']\n",
    "\n",
    "unique_df = unique_df.loc[(unique_df['Investigation.Type'] == 'Accident') \n",
    "                    & (unique_df['Country'] == 'United States')\n",
    "                    & (unique_df['Event.Date'] > '2001-11-01')\n",
    "                    & (unique_df['Aircraft.Category'] != (unique_df['Aircraft.Category'].isin(Aircraft_categories)))\n",
    "                    & (unique_df['Purpose.of.flight'] != (unique_df['Purpose.of.flight'].isin(Flight_purpose)))\n",
    "                    ]"
   ]
  },
  {
   "cell_type": "markdown",
   "metadata": {},
   "source": [
    "Look at columns relevant to the business problem and remove the missing values from the appropriate column(s). \n"
   ]
  },
  {
   "cell_type": "code",
   "execution_count": 5,
   "metadata": {},
   "outputs": [
    {
     "data": {
      "text/plain": [
       "CESSNA                  4227\n",
       "Cessna                  4135\n",
       "PIPER                   2487\n",
       "Piper                   2266\n",
       "BEECH                    874\n",
       "                        ... \n",
       "David Jarrett              1\n",
       "WALTER S JOHNSON III       1\n",
       "PITTMAN EDDIE G            1\n",
       "Peterson                   1\n",
       "JAMES WIEBE                1\n",
       "Name: Make, Length: 5179, dtype: int64"
      ]
     },
     "execution_count": 5,
     "metadata": {},
     "output_type": "execute_result"
    }
   ],
   "source": [
    "unique_df['Make'].value_counts()"
   ]
  },
  {
   "cell_type": "code",
   "execution_count": 6,
   "metadata": {},
   "outputs": [],
   "source": [
    "unique_df = unique_df.dropna(subset=['Make'])"
   ]
  },
  {
   "cell_type": "markdown",
   "metadata": {},
   "source": [
    "Further clean this data by standardizing the capitalization of the string objects \n",
    "in each element of the Make column.  "
   ]
  },
  {
   "cell_type": "code",
   "execution_count": 7,
   "metadata": {},
   "outputs": [
    {
     "data": {
      "text/plain": [
       "Cessna                   8362\n",
       "Piper                    4753\n",
       "Beech                    1737\n",
       "Bell                      774\n",
       "Mooney                    472\n",
       "                         ... \n",
       "Jennings John C             1\n",
       "Halsted                     1\n",
       "Philip D Anderson           1\n",
       "Bryan C L/Labrash R D       1\n",
       "Michael Cans                1\n",
       "Name: Make, Length: 4705, dtype: int64"
      ]
     },
     "execution_count": 7,
     "metadata": {},
     "output_type": "execute_result"
    }
   ],
   "source": [
    "unique_df['Make'] = unique_df['Make'].str.title()\n",
    "\n",
    "unique_df['Make'].value_counts()"
   ]
  },
  {
   "cell_type": "code",
   "execution_count": 8,
   "metadata": {},
   "outputs": [],
   "source": [
    "## Continue to clean data in Make and Purpose of flight columns\n",
    "\n",
    "unique_df['Make'].replace(to_replace = ['Saab-Scania', 'Saab'], value = 'Saab-Scania Ab (Saab)', inplace = True)\n",
    "unique_df['Make'].replace(to_replace = ['Embraer'], value = 'Embraer S A', inplace = True)\n",
    "unique_df['Make'].replace(to_replace = ['Airbus'], value = 'Airbus Industrie', inplace = True)\n",
    "unique_df['Make'].replace(to_replace = ['Bombardier', 'Bombardier, Inc.'], value = 'Bombardier Inc', inplace = True)\n",
    "unique_df['Make'].replace(to_replace = ['Mcdonnell Douglas', 'Douglas', 'Mcdonnell Douglas Corporation'], value = 'Mcdonnell Douglas Aircraft Co', inplace = True)\n",
    "unique_df['Make'].replace(to_replace = ['Beechcraft'], value = 'Beech', inplace = True)\n",
    "unique_df['Make'].replace(to_replace = ['Gulfstream'], value = 'Gulfstream Aerospace', inplace = True)\n",
    "unique_df['Make'].replace(to_replace = ['Embraer-Empresa Brasileira De'], value = 'Embraer S A', inplace = True)\n",
    "\n",
    "unique_df['Purpose.of.flight'].replace(to_replace = ['PUBS'], value = 'Public Aircraft - State', inplace = True)\n",
    "unique_df['Purpose.of.flight'].replace(to_replace = ['PUBL'], value = 'Public Aircraft - Local', inplace = True)"
   ]
  },
  {
   "cell_type": "markdown",
   "metadata": {},
   "source": [
    "Choose which columns to keep then drop the rest of the columns."
   ]
  },
  {
   "cell_type": "code",
   "execution_count": 9,
   "metadata": {},
   "outputs": [
    {
     "name": "stdout",
     "output_type": "stream",
     "text": [
      "<class 'pandas.core.frame.DataFrame'>\n",
      "Int64Index: 31281 entries, 51711 to 90347\n",
      "Data columns (total 31 columns):\n",
      " #   Column                  Non-Null Count  Dtype  \n",
      "---  ------                  --------------  -----  \n",
      " 0   Event.Id                31281 non-null  object \n",
      " 1   Investigation.Type      31281 non-null  object \n",
      " 2   Accident.Number         31281 non-null  object \n",
      " 3   Event.Date              31281 non-null  object \n",
      " 4   Location                31274 non-null  object \n",
      " 5   Country                 31281 non-null  object \n",
      " 6   Latitude                30650 non-null  object \n",
      " 7   Longitude               30640 non-null  object \n",
      " 8   Airport.Code            21217 non-null  object \n",
      " 9   Airport.Name            21404 non-null  object \n",
      " 10  Injury.Severity         31229 non-null  object \n",
      " 11  Aircraft.damage         30734 non-null  object \n",
      " 12  Aircraft.Category       23880 non-null  object \n",
      " 13  Registration.Number     31279 non-null  object \n",
      " 14  Make                    31281 non-null  object \n",
      " 15  Model                   31276 non-null  object \n",
      " 16  Amateur.Built           31269 non-null  object \n",
      " 17  Number.of.Engines       30328 non-null  float64\n",
      " 18  Engine.Type             28440 non-null  object \n",
      " 19  FAR.Description         23936 non-null  object \n",
      " 20  Schedule                2053 non-null   object \n",
      " 21  Purpose.of.flight       29582 non-null  object \n",
      " 22  Air.carrier             11407 non-null  object \n",
      " 23  Total.Fatal.Injuries    22560 non-null  float64\n",
      " 24  Total.Serious.Injuries  21984 non-null  float64\n",
      " 25  Total.Minor.Injuries    22563 non-null  float64\n",
      " 26  Total.Uninjured         27106 non-null  float64\n",
      " 27  Weather.Condition       30739 non-null  object \n",
      " 28  Broad.phase.of.flight   10854 non-null  object \n",
      " 29  Report.Status           28716 non-null  object \n",
      " 30  Publication.Date        29499 non-null  object \n",
      "dtypes: float64(5), object(26)\n",
      "memory usage: 7.6+ MB\n"
     ]
    }
   ],
   "source": [
    "unique_df.info()"
   ]
  },
  {
   "cell_type": "code",
   "execution_count": 10,
   "metadata": {},
   "outputs": [
    {
     "data": {
      "text/html": [
       "<div>\n",
       "<style scoped>\n",
       "    .dataframe tbody tr th:only-of-type {\n",
       "        vertical-align: middle;\n",
       "    }\n",
       "\n",
       "    .dataframe tbody tr th {\n",
       "        vertical-align: top;\n",
       "    }\n",
       "\n",
       "    .dataframe thead th {\n",
       "        text-align: right;\n",
       "    }\n",
       "</style>\n",
       "<table border=\"1\" class=\"dataframe\">\n",
       "  <thead>\n",
       "    <tr style=\"text-align: right;\">\n",
       "      <th></th>\n",
       "      <th>Event.Id</th>\n",
       "      <th>Investigation.Type</th>\n",
       "      <th>Accident.Number</th>\n",
       "      <th>Event.Date</th>\n",
       "      <th>Location</th>\n",
       "      <th>Country</th>\n",
       "      <th>Aircraft.damage</th>\n",
       "      <th>Aircraft.Category</th>\n",
       "      <th>Make</th>\n",
       "      <th>Model</th>\n",
       "      <th>Number.of.Engines</th>\n",
       "      <th>Engine.Type</th>\n",
       "      <th>Purpose.of.flight</th>\n",
       "      <th>Broad.phase.of.flight</th>\n",
       "    </tr>\n",
       "  </thead>\n",
       "  <tbody>\n",
       "    <tr>\n",
       "      <th>51711</th>\n",
       "      <td>20011120X02265</td>\n",
       "      <td>Accident</td>\n",
       "      <td>SEA02LA010</td>\n",
       "      <td>2001-11-02</td>\n",
       "      <td>ONTARIO, OR</td>\n",
       "      <td>United States</td>\n",
       "      <td>Substantial</td>\n",
       "      <td>NaN</td>\n",
       "      <td>Fetherolf</td>\n",
       "      <td>Hatz CB-1</td>\n",
       "      <td>1.0</td>\n",
       "      <td>Reciprocating</td>\n",
       "      <td>Personal</td>\n",
       "      <td>Landing</td>\n",
       "    </tr>\n",
       "    <tr>\n",
       "      <th>51712</th>\n",
       "      <td>20011114X02238</td>\n",
       "      <td>Accident</td>\n",
       "      <td>NYC02LA024</td>\n",
       "      <td>2001-11-02</td>\n",
       "      <td>ARGYLE, NY</td>\n",
       "      <td>United States</td>\n",
       "      <td>Substantial</td>\n",
       "      <td>NaN</td>\n",
       "      <td>Cessna</td>\n",
       "      <td>172D</td>\n",
       "      <td>1.0</td>\n",
       "      <td>Reciprocating</td>\n",
       "      <td>Personal</td>\n",
       "      <td>Maneuvering</td>\n",
       "    </tr>\n",
       "    <tr>\n",
       "      <th>51713</th>\n",
       "      <td>20011106X02198</td>\n",
       "      <td>Accident</td>\n",
       "      <td>CHI02LA018</td>\n",
       "      <td>2001-11-02</td>\n",
       "      <td>PEORIA, IL</td>\n",
       "      <td>United States</td>\n",
       "      <td>Substantial</td>\n",
       "      <td>NaN</td>\n",
       "      <td>Piper</td>\n",
       "      <td>PA-28R-201T</td>\n",
       "      <td>1.0</td>\n",
       "      <td>Reciprocating</td>\n",
       "      <td>Personal</td>\n",
       "      <td>Landing</td>\n",
       "    </tr>\n",
       "    <tr>\n",
       "      <th>51715</th>\n",
       "      <td>20011125X02293</td>\n",
       "      <td>Accident</td>\n",
       "      <td>NYC02LA031</td>\n",
       "      <td>2001-11-03</td>\n",
       "      <td>NORTH LIMA, OH</td>\n",
       "      <td>United States</td>\n",
       "      <td>Substantial</td>\n",
       "      <td>NaN</td>\n",
       "      <td>Maule</td>\n",
       "      <td>M7-260</td>\n",
       "      <td>1.0</td>\n",
       "      <td>Reciprocating</td>\n",
       "      <td>Personal</td>\n",
       "      <td>Landing</td>\n",
       "    </tr>\n",
       "    <tr>\n",
       "      <th>51716</th>\n",
       "      <td>20011228X02462</td>\n",
       "      <td>Accident</td>\n",
       "      <td>NYC02LA021</td>\n",
       "      <td>2001-11-03</td>\n",
       "      <td>ROANOKE, VA</td>\n",
       "      <td>United States</td>\n",
       "      <td>Substantial</td>\n",
       "      <td>NaN</td>\n",
       "      <td>Piper</td>\n",
       "      <td>PA-22-108</td>\n",
       "      <td>1.0</td>\n",
       "      <td>Reciprocating</td>\n",
       "      <td>Personal</td>\n",
       "      <td>Climb</td>\n",
       "    </tr>\n",
       "  </tbody>\n",
       "</table>\n",
       "</div>"
      ],
      "text/plain": [
       "             Event.Id Investigation.Type Accident.Number  Event.Date  \\\n",
       "51711  20011120X02265           Accident      SEA02LA010  2001-11-02   \n",
       "51712  20011114X02238           Accident      NYC02LA024  2001-11-02   \n",
       "51713  20011106X02198           Accident      CHI02LA018  2001-11-02   \n",
       "51715  20011125X02293           Accident      NYC02LA031  2001-11-03   \n",
       "51716  20011228X02462           Accident      NYC02LA021  2001-11-03   \n",
       "\n",
       "             Location        Country Aircraft.damage Aircraft.Category  \\\n",
       "51711     ONTARIO, OR  United States     Substantial               NaN   \n",
       "51712      ARGYLE, NY  United States     Substantial               NaN   \n",
       "51713      PEORIA, IL  United States     Substantial               NaN   \n",
       "51715  NORTH LIMA, OH  United States     Substantial               NaN   \n",
       "51716     ROANOKE, VA  United States     Substantial               NaN   \n",
       "\n",
       "            Make        Model  Number.of.Engines    Engine.Type  \\\n",
       "51711  Fetherolf    Hatz CB-1                1.0  Reciprocating   \n",
       "51712     Cessna         172D                1.0  Reciprocating   \n",
       "51713      Piper  PA-28R-201T                1.0  Reciprocating   \n",
       "51715      Maule       M7-260                1.0  Reciprocating   \n",
       "51716      Piper    PA-22-108                1.0  Reciprocating   \n",
       "\n",
       "      Purpose.of.flight Broad.phase.of.flight  \n",
       "51711          Personal               Landing  \n",
       "51712          Personal           Maneuvering  \n",
       "51713          Personal               Landing  \n",
       "51715          Personal               Landing  \n",
       "51716          Personal                 Climb  "
      ]
     },
     "execution_count": 10,
     "metadata": {},
     "output_type": "execute_result"
    }
   ],
   "source": [
    "dropped_columns = ['Injury.Severity', 'Registration.Number', 'Amateur.Built', 'FAR.Description', \n",
    "                   'Schedule', 'Air.carrier', 'Weather.Condition', 'Report.Status', 'Publication.Date', \n",
    "                   'Total.Fatal.Injuries', 'Total.Serious.Injuries', 'Total.Minor.Injuries', 'Total.Uninjured', \n",
    "                   'Latitude', 'Longitude', 'Airport.Code', 'Airport.Name']\n",
    "\n",
    "for column in dropped_columns:\n",
    "    unique_df = unique_df.drop(column, axis=1)\n",
    "    \n",
    "unique_df.head()"
   ]
  },
  {
   "cell_type": "markdown",
   "metadata": {},
   "source": [
    "The size of the dataset used in the analysis after cleaning it is now 31281 entries."
   ]
  },
  {
   "cell_type": "code",
   "execution_count": 11,
   "metadata": {},
   "outputs": [
    {
     "name": "stdout",
     "output_type": "stream",
     "text": [
      "<class 'pandas.core.frame.DataFrame'>\n",
      "Int64Index: 31281 entries, 51711 to 90347\n",
      "Data columns (total 14 columns):\n",
      " #   Column                 Non-Null Count  Dtype  \n",
      "---  ------                 --------------  -----  \n",
      " 0   Event.Id               31281 non-null  object \n",
      " 1   Investigation.Type     31281 non-null  object \n",
      " 2   Accident.Number        31281 non-null  object \n",
      " 3   Event.Date             31281 non-null  object \n",
      " 4   Location               31274 non-null  object \n",
      " 5   Country                31281 non-null  object \n",
      " 6   Aircraft.damage        30734 non-null  object \n",
      " 7   Aircraft.Category      23880 non-null  object \n",
      " 8   Make                   31281 non-null  object \n",
      " 9   Model                  31276 non-null  object \n",
      " 10  Number.of.Engines      30328 non-null  float64\n",
      " 11  Engine.Type            28440 non-null  object \n",
      " 12  Purpose.of.flight      29582 non-null  object \n",
      " 13  Broad.phase.of.flight  10854 non-null  object \n",
      "dtypes: float64(1), object(13)\n",
      "memory usage: 3.6+ MB\n"
     ]
    }
   ],
   "source": [
    "unique_df.info()"
   ]
  },
  {
   "cell_type": "markdown",
   "metadata": {},
   "source": [
    "## 2. Data Visualization"
   ]
  },
  {
   "cell_type": "markdown",
   "metadata": {},
   "source": [
    " Create visuals that compare:\n",
    " - The number of engines to the total accident count \n",
    " - The engine type to the total accident count \n",
    " - The broad phase of flight to the total accident count\n",
    " "
   ]
  },
  {
   "cell_type": "code",
   "execution_count": 12,
   "metadata": {},
   "outputs": [
    {
     "data": {
      "image/png": "[encoded data removed]",
      "text/plain": [
       "<Figure size 720x360 with 1 Axes>"
      ]
     },
     "metadata": {
      "needs_background": "light"
     },
     "output_type": "display_data"
    }
   ],
   "source": [
    "unique_df['Number.of.Engines'].value_counts().sort_index()\n",
    "\n",
    "## Plotting data\n",
    "\n",
    "fig, ax = plt.subplots(figsize=(10,5))\n",
    "\n",
    "x = unique_df['Number.of.Engines'].value_counts().index\n",
    "y = unique_df['Number.of.Engines'].value_counts().values\n",
    "\n",
    "ax.bar(x,y)\n",
    "ax.set_title('Airplanes with a Minimum of 2 Engines had the Least Amount of Accidents')\n",
    "ax.set_xlabel('Number of Engines')\n",
    "ax.set_ylabel('Total Accident Count');"
   ]
  },
  {
   "cell_type": "markdown",
   "metadata": {},
   "source": [
    "The number of engines to the total accident count comparison shows that airplanes with a __minimum of 2 engines__ had the __least__ amount of accidents."
   ]
  },
  {
   "cell_type": "code",
   "execution_count": 13,
   "metadata": {},
   "outputs": [
    {
     "data": {
      "image/png": "[encoded data removed]",
      "text/plain": [
       "<Figure size 1080x360 with 1 Axes>"
      ]
     },
     "metadata": {
      "needs_background": "light"
     },
     "output_type": "display_data"
    }
   ],
   "source": [
    "fig, ax = plt.subplots(figsize=(15,5))\n",
    "x = unique_df['Engine.Type'].value_counts().index\n",
    "y = unique_df['Engine.Type'].value_counts().values\n",
    "ax.bar(x,y)\n",
    "ax.set_title('Airplanes with the Reciprocating Type of Engine had the Most Amount of Accidents')\n",
    "ax.set_xlabel('Engine Type')\n",
    "\n",
    "ax.set_ylabel('Total Accident Count');"
   ]
  },
  {
   "cell_type": "markdown",
   "metadata": {},
   "source": [
    "The engine type to the total accident count comparison shows that airplanes with the __reciprocating type of engine__ had the __most__ amount of accidents."
   ]
  },
  {
   "cell_type": "code",
   "execution_count": 14,
   "metadata": {},
   "outputs": [
    {
     "data": {
      "image/png": "[encoded data removed]",
      "text/plain": [
       "<Figure size 1224x360 with 1 Axes>"
      ]
     },
     "metadata": {
      "needs_background": "light"
     },
     "output_type": "display_data"
    }
   ],
   "source": [
    "fig, ax = plt.subplots(figsize=(17,5))\n",
    "\n",
    "x = unique_df['Broad.phase.of.flight'].value_counts().index\n",
    "y = unique_df['Broad.phase.of.flight'].value_counts().values\n",
    "\n",
    "ax.bar(x,y)\n",
    "ax.set_title('The Most Accidents Occurred During the Landing Phase of Flight')\n",
    "ax.set_xlabel('Broad Phase of Flight')\n",
    "ax.set_ylabel('Total Accident Count');"
   ]
  },
  {
   "cell_type": "markdown",
   "metadata": {},
   "source": [
    "The broad phase of flight to the total accident count shows that the __most__ accidents occurred during the __landing phase of flight__."
   ]
  },
  {
   "cell_type": "markdown",
   "metadata": {},
   "source": [
    "## 3. Data Analysis\n",
    "\n",
    "- Commercial airplane analysis\n",
    "- Private airplane analysis"
   ]
  },
  {
   "cell_type": "markdown",
   "metadata": {},
   "source": [
    "### Commercial Analysis\n",
    "\n",
    "Data analysis for commercial airplanes that have the least amount of accidents.\n",
    "\n",
    "- We chose 2.0 engines as per the data in the bar graph \"Airplanes with a minimum of 3 engines had the least amount of accidents\".\n",
    "\n",
    "- We focused on data from Boeing and Airbus because they are among the top 10 largest commercial aircraft manufacturers according to the [article](https://www.aerotime.aero/articles/top-10-largest-aircraft-manufacturers-in-the-world) written by Rosita Mickeviciute in 2023. "
   ]
  },
  {
   "cell_type": "code",
   "execution_count": 15,
   "metadata": {},
   "outputs": [],
   "source": [
    "filtered_public_df = unique_df.loc[(unique_df['Number.of.Engines'] > 2.0)\n",
    "           & (unique_df['Engine.Type'] != 'Reciprocating')\n",
    "           & (unique_df['Purpose.of.flight'] != 'Personal')\n",
    "           & (unique_df['Purpose.of.flight'] != 'Business')\n",
    "           & (unique_df['Purpose.of.flight'] != 'Other Work Use')\n",
    "           & (unique_df['Purpose.of.flight'] != 'Executive/corporate')\n",
    "           & (unique_df['Broad.phase.of.flight'] != 'Landing')\n",
    "           ]"
   ]
  },
  {
   "cell_type": "code",
   "execution_count": 16,
   "metadata": {},
   "outputs": [],
   "source": [
    "final_public_df = filtered_public_df.loc[(filtered_public_df['Make'] == 'Boeing')\n",
    "                       |(filtered_public_df['Make'] == 'Airbus Industrie')\n",
    "                        ]"
   ]
  },
  {
   "cell_type": "code",
   "execution_count": 17,
   "metadata": {
    "scrolled": true
   },
   "outputs": [
    {
     "data": {
      "text/plain": [
       "Make              Number.of.Engines\n",
       "Boeing            4.0                  18\n",
       "                  3.0                  10\n",
       "Airbus Industrie  4.0                   3\n",
       "dtype: int64"
      ]
     },
     "execution_count": 17,
     "metadata": {},
     "output_type": "execute_result"
    }
   ],
   "source": [
    "final_public_df[['Make', 'Number.of.Engines']].value_counts().head(50)  "
   ]
  },
  {
   "cell_type": "markdown",
   "metadata": {},
   "source": [
    "### Private Analysis"
   ]
  },
  {
   "cell_type": "markdown",
   "metadata": {},
   "source": [
    "Data analysis for private airplanes that have the least amount of accidents.\n",
    "\n",
    "- Investigate if there is a correalation between number of engines and engine type\n",
    "- We chose 1.0 engine as per the data in the bar graph \"Airplanes with the Reciprocating type of engine had the most amount of accidents\" and the data from \"Num_of_engines_and_Engine_type\".\n",
    "\n",
    "- We focused on data from Beech, Cessna, Bombardier Inc, and Gulfstream Aerospace because they are among the top 10 largest private aircraft manufacturers according to the [article](https://www.aerotime.aero/articles/top-10-most-popular-private-jet-models-of-2023) written by Rosita Mickeviciute in 2023. "
   ]
  },
  {
   "cell_type": "code",
   "execution_count": 18,
   "metadata": {
    "scrolled": true
   },
   "outputs": [
    {
     "data": {
      "text/plain": [
       "Number.of.Engines  Engine.Type  \n",
       "1.0                Reciprocating    22650\n",
       "2.0                Reciprocating     1616\n",
       "1.0                Turbo Shaft       1192\n",
       "                   Turbo Prop         955\n",
       "2.0                Turbo Fan          594\n",
       "                   Turbo Prop         490\n",
       "                   Turbo Shaft        183\n",
       "                   Turbo Jet          104\n",
       "1.0                Turbo Jet           61\n",
       "3.0                Turbo Fan           26\n",
       "4.0                Turbo Fan           20\n",
       "1.0                Turbo Fan           19\n",
       "                   Unknown             16\n",
       "4.0                Reciprocating       13\n",
       "0.0                None                 8\n",
       "1.0                None                 5\n",
       "3.0                Turbo Jet            5\n",
       "2.0                Unknown              4\n",
       "1.0                Electric             4\n",
       "4.0                Turbo Prop           4\n",
       "0.0                Unknown              3\n",
       "8.0                LR                   2\n",
       "4.0                Electric             2\n",
       "                   Turbo Jet            2\n",
       "0.0                NONE                 2\n",
       "1.0                UNK                  1\n",
       "2.0                None                 1\n",
       "8.0                Electric             1\n",
       "3.0                Reciprocating        1\n",
       "                   Unknown              1\n",
       "1.0                Hybrid Rocket        1\n",
       "4.0                None                 1\n",
       "0.0                Reciprocating        1\n",
       "4.0                Unknown              1\n",
       "dtype: int64"
      ]
     },
     "execution_count": 18,
     "metadata": {},
     "output_type": "execute_result"
    }
   ],
   "source": [
    "Num_of_engines_and_Engine_type = unique_df[['Number.of.Engines', 'Engine.Type']].value_counts()\n",
    "Num_of_engines_and_Engine_type\n",
    "\n",
    "## Airplanes that used Reciproating engine types and ran on single engines \n",
    "## had the most amount of accidents"
   ]
  },
  {
   "cell_type": "code",
   "execution_count": 19,
   "metadata": {},
   "outputs": [],
   "source": [
    "filtered_private_df = unique_df.loc[(unique_df['Number.of.Engines'] > 1.0)\n",
    "           & (unique_df['Engine.Type'] != 'Reciprocating')\n",
    "           & (unique_df['Purpose.of.flight'] != 'Public Aircraft')\n",
    "           & (unique_df['Purpose.of.flight'] != 'Public Aircraft - Federal')\n",
    "           & (unique_df['Purpose.of.flight'] != 'Public Aircraft - State')\n",
    "           & (unique_df['Purpose.of.flight'] != 'Public Aircraft - Local')\n",
    "           & (unique_df['Broad.phase.of.flight'] != 'Landing')\n",
    "           ]"
   ]
  },
  {
   "cell_type": "code",
   "execution_count": 20,
   "metadata": {},
   "outputs": [],
   "source": [
    "final_private_df = filtered_private_df.loc[(filtered_private_df['Make'] == 'Beech')\n",
    "                                           |(filtered_private_df['Make'] == 'Cessna')\n",
    "                                           |(filtered_private_df['Make'] == 'Bombardier Inc')\n",
    "                                           |(filtered_private_df['Make'] == 'Gulfstream Aerospace')\n",
    "                                          ]\n",
    "\n"
   ]
  },
  {
   "cell_type": "code",
   "execution_count": 21,
   "metadata": {},
   "outputs": [
    {
     "data": {
      "text/plain": [
       "Make                  Number.of.Engines\n",
       "Beech                 2.0                  201\n",
       "Cessna                2.0                  161\n",
       "Bombardier Inc        2.0                   67\n",
       "Gulfstream Aerospace  2.0                   16\n",
       "dtype: int64"
      ]
     },
     "execution_count": 21,
     "metadata": {},
     "output_type": "execute_result"
    }
   ],
   "source": [
    "final_private_df[['Make', 'Number.of.Engines']].value_counts()\n"
   ]
  },
  {
   "cell_type": "markdown",
   "metadata": {},
   "source": [
    "## Conclusions"
   ]
  },
  {
   "cell_type": "markdown",
   "metadata": {},
   "source": [
    "- Any skepticism in our data is mainly due to the lack of non-incident/accident flight reports.\n",
    "\n",
    "\n",
    "- Airplanes that used reciproating engine types and ran on single engines had the most amount of accidents. \n",
    "\n",
    "\n",
    "- Among the top performing commercial airplane manufacturers Airbus Industries had the lowest amount of accidents and had no landing accident record.\n",
    "\n",
    "\n",
    "- Among the top performing private airplane manufacturers Gulfstream Aerospace had the lowest amount of accidents and had no landing accident record.\n",
    "\n",
    "\n",
    "\n",
    "- The following recommendations would yield the lowest risk to Jelly Co.\n",
    "\n",
    "\n",
    " #### Purchasing Recommendation For Commercial Airplanes:\n",
    "\n",
    "1. Make: __Airbus__      \n",
    "2. Number of Engines: __4.0__   \n",
    "\n",
    "\n",
    " #### Purchasing Recommendation For Private Airplanes:\n",
    "\n",
    "1. Make: __Gulfstream Aerospace__  \n",
    "2. Number of Engines: __2.0__ \n",
    "\n",
    "#### Purchasing Recommendation For Both Airplanes:\n",
    "- Advanced landing assistance features \n"
   ]
  }
 ],
 "metadata": {
  "celltoolbar": "Create Assignment",
  "kernelspec": {
   "display_name": "Python (learn-env)",
   "language": "python",
   "name": "learn-env"
  },
  "language_info": {
   "codemirror_mode": {
    "name": "ipython",
    "version": 3
   },
   "file_extension": ".py",
   "mimetype": "text/x-python",
   "name": "python",
   "nbconvert_exporter": "python",
   "pygments_lexer": "ipython3",
   "version": "3.8.5"
  }
 },
 "nbformat": 4,
 "nbformat_minor": 4
}
