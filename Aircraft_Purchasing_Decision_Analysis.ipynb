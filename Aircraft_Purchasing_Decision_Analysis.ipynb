{
 "cells": [
  {
   "cell_type": "code",
   "execution_count": 1,
   "metadata": {},
   "outputs": [],
   "source": [
    "import numpy as np\n",
    "import pandas as pd\n",
    "import matplotlib.pyplot as plt\n",
    "%matplotlib inline \n",
    "\n",
    "\n",
    "pd.set_option('display.max_columns', None)"
   ]
  },
  {
   "cell_type": "code",
   "execution_count": 2,
   "metadata": {},
   "outputs": [],
   "source": [
    "df = pd.read_csv(\"data/Aviation_Data.csv\", low_memory=False)"
   ]
  },
  {
   "cell_type": "code",
   "execution_count": 3,
   "metadata": {},
   "outputs": [
    {
     "data": {
      "text/html": [
       "<div>\n",
       "<style scoped>\n",
       "    .dataframe tbody tr th:only-of-type {\n",
       "        vertical-align: middle;\n",
       "    }\n",
       "\n",
       "    .dataframe tbody tr th {\n",
       "        vertical-align: top;\n",
       "    }\n",
       "\n",
       "    .dataframe thead th {\n",
       "        text-align: right;\n",
       "    }\n",
       "</style>\n",
       "<table border=\"1\" class=\"dataframe\">\n",
       "  <thead>\n",
       "    <tr style=\"text-align: right;\">\n",
       "      <th></th>\n",
       "      <th>Event.Id</th>\n",
       "      <th>Investigation.Type</th>\n",
       "      <th>Accident.Number</th>\n",
       "      <th>Event.Date</th>\n",
       "      <th>Location</th>\n",
       "      <th>Country</th>\n",
       "      <th>Latitude</th>\n",
       "      <th>Longitude</th>\n",
       "      <th>Airport.Code</th>\n",
       "      <th>Airport.Name</th>\n",
       "      <th>Injury.Severity</th>\n",
       "      <th>Aircraft.damage</th>\n",
       "      <th>Aircraft.Category</th>\n",
       "      <th>Registration.Number</th>\n",
       "      <th>Make</th>\n",
       "      <th>Model</th>\n",
       "      <th>Amateur.Built</th>\n",
       "      <th>Number.of.Engines</th>\n",
       "      <th>Engine.Type</th>\n",
       "      <th>FAR.Description</th>\n",
       "      <th>Schedule</th>\n",
       "      <th>Purpose.of.flight</th>\n",
       "      <th>Air.carrier</th>\n",
       "      <th>Total.Fatal.Injuries</th>\n",
       "      <th>Total.Serious.Injuries</th>\n",
       "      <th>Total.Minor.Injuries</th>\n",
       "      <th>Total.Uninjured</th>\n",
       "      <th>Weather.Condition</th>\n",
       "      <th>Broad.phase.of.flight</th>\n",
       "      <th>Report.Status</th>\n",
       "      <th>Publication.Date</th>\n",
       "    </tr>\n",
       "  </thead>\n",
       "  <tbody>\n",
       "    <tr>\n",
       "      <th>0</th>\n",
       "      <td>20001218X45444</td>\n",
       "      <td>Accident</td>\n",
       "      <td>SEA87LA080</td>\n",
       "      <td>1948-10-24</td>\n",
       "      <td>MOOSE CREEK, ID</td>\n",
       "      <td>United States</td>\n",
       "      <td>NaN</td>\n",
       "      <td>NaN</td>\n",
       "      <td>NaN</td>\n",
       "      <td>NaN</td>\n",
       "      <td>Fatal(2)</td>\n",
       "      <td>Destroyed</td>\n",
       "      <td>NaN</td>\n",
       "      <td>NC6404</td>\n",
       "      <td>Stinson</td>\n",
       "      <td>108-3</td>\n",
       "      <td>No</td>\n",
       "      <td>1.0</td>\n",
       "      <td>Reciprocating</td>\n",
       "      <td>NaN</td>\n",
       "      <td>NaN</td>\n",
       "      <td>Personal</td>\n",
       "      <td>NaN</td>\n",
       "      <td>2.0</td>\n",
       "      <td>0.0</td>\n",
       "      <td>0.0</td>\n",
       "      <td>0.0</td>\n",
       "      <td>UNK</td>\n",
       "      <td>Cruise</td>\n",
       "      <td>Probable Cause</td>\n",
       "      <td>NaN</td>\n",
       "    </tr>\n",
       "    <tr>\n",
       "      <th>1</th>\n",
       "      <td>20001218X45447</td>\n",
       "      <td>Accident</td>\n",
       "      <td>LAX94LA336</td>\n",
       "      <td>1962-07-19</td>\n",
       "      <td>BRIDGEPORT, CA</td>\n",
       "      <td>United States</td>\n",
       "      <td>NaN</td>\n",
       "      <td>NaN</td>\n",
       "      <td>NaN</td>\n",
       "      <td>NaN</td>\n",
       "      <td>Fatal(4)</td>\n",
       "      <td>Destroyed</td>\n",
       "      <td>NaN</td>\n",
       "      <td>N5069P</td>\n",
       "      <td>Piper</td>\n",
       "      <td>PA24-180</td>\n",
       "      <td>No</td>\n",
       "      <td>1.0</td>\n",
       "      <td>Reciprocating</td>\n",
       "      <td>NaN</td>\n",
       "      <td>NaN</td>\n",
       "      <td>Personal</td>\n",
       "      <td>NaN</td>\n",
       "      <td>4.0</td>\n",
       "      <td>0.0</td>\n",
       "      <td>0.0</td>\n",
       "      <td>0.0</td>\n",
       "      <td>UNK</td>\n",
       "      <td>Unknown</td>\n",
       "      <td>Probable Cause</td>\n",
       "      <td>19-09-1996</td>\n",
       "    </tr>\n",
       "    <tr>\n",
       "      <th>2</th>\n",
       "      <td>20061025X01555</td>\n",
       "      <td>Accident</td>\n",
       "      <td>NYC07LA005</td>\n",
       "      <td>1974-08-30</td>\n",
       "      <td>Saltville, VA</td>\n",
       "      <td>United States</td>\n",
       "      <td>36.922223</td>\n",
       "      <td>-81.878056</td>\n",
       "      <td>NaN</td>\n",
       "      <td>NaN</td>\n",
       "      <td>Fatal(3)</td>\n",
       "      <td>Destroyed</td>\n",
       "      <td>NaN</td>\n",
       "      <td>N5142R</td>\n",
       "      <td>Cessna</td>\n",
       "      <td>172M</td>\n",
       "      <td>No</td>\n",
       "      <td>1.0</td>\n",
       "      <td>Reciprocating</td>\n",
       "      <td>NaN</td>\n",
       "      <td>NaN</td>\n",
       "      <td>Personal</td>\n",
       "      <td>NaN</td>\n",
       "      <td>3.0</td>\n",
       "      <td>NaN</td>\n",
       "      <td>NaN</td>\n",
       "      <td>NaN</td>\n",
       "      <td>IMC</td>\n",
       "      <td>Cruise</td>\n",
       "      <td>Probable Cause</td>\n",
       "      <td>26-02-2007</td>\n",
       "    </tr>\n",
       "    <tr>\n",
       "      <th>3</th>\n",
       "      <td>20001218X45448</td>\n",
       "      <td>Accident</td>\n",
       "      <td>LAX96LA321</td>\n",
       "      <td>1977-06-19</td>\n",
       "      <td>EUREKA, CA</td>\n",
       "      <td>United States</td>\n",
       "      <td>NaN</td>\n",
       "      <td>NaN</td>\n",
       "      <td>NaN</td>\n",
       "      <td>NaN</td>\n",
       "      <td>Fatal(2)</td>\n",
       "      <td>Destroyed</td>\n",
       "      <td>NaN</td>\n",
       "      <td>N1168J</td>\n",
       "      <td>Rockwell</td>\n",
       "      <td>112</td>\n",
       "      <td>No</td>\n",
       "      <td>1.0</td>\n",
       "      <td>Reciprocating</td>\n",
       "      <td>NaN</td>\n",
       "      <td>NaN</td>\n",
       "      <td>Personal</td>\n",
       "      <td>NaN</td>\n",
       "      <td>2.0</td>\n",
       "      <td>0.0</td>\n",
       "      <td>0.0</td>\n",
       "      <td>0.0</td>\n",
       "      <td>IMC</td>\n",
       "      <td>Cruise</td>\n",
       "      <td>Probable Cause</td>\n",
       "      <td>12-09-2000</td>\n",
       "    </tr>\n",
       "    <tr>\n",
       "      <th>4</th>\n",
       "      <td>20041105X01764</td>\n",
       "      <td>Accident</td>\n",
       "      <td>CHI79FA064</td>\n",
       "      <td>1979-08-02</td>\n",
       "      <td>Canton, OH</td>\n",
       "      <td>United States</td>\n",
       "      <td>NaN</td>\n",
       "      <td>NaN</td>\n",
       "      <td>NaN</td>\n",
       "      <td>NaN</td>\n",
       "      <td>Fatal(1)</td>\n",
       "      <td>Destroyed</td>\n",
       "      <td>NaN</td>\n",
       "      <td>N15NY</td>\n",
       "      <td>Cessna</td>\n",
       "      <td>501</td>\n",
       "      <td>No</td>\n",
       "      <td>NaN</td>\n",
       "      <td>NaN</td>\n",
       "      <td>NaN</td>\n",
       "      <td>NaN</td>\n",
       "      <td>Personal</td>\n",
       "      <td>NaN</td>\n",
       "      <td>1.0</td>\n",
       "      <td>2.0</td>\n",
       "      <td>NaN</td>\n",
       "      <td>0.0</td>\n",
       "      <td>VMC</td>\n",
       "      <td>Approach</td>\n",
       "      <td>Probable Cause</td>\n",
       "      <td>16-04-1980</td>\n",
       "    </tr>\n",
       "  </tbody>\n",
       "</table>\n",
       "</div>"
      ],
      "text/plain": [
       "         Event.Id Investigation.Type Accident.Number  Event.Date  \\\n",
       "0  20001218X45444           Accident      SEA87LA080  1948-10-24   \n",
       "1  20001218X45447           Accident      LAX94LA336  1962-07-19   \n",
       "2  20061025X01555           Accident      NYC07LA005  1974-08-30   \n",
       "3  20001218X45448           Accident      LAX96LA321  1977-06-19   \n",
       "4  20041105X01764           Accident      CHI79FA064  1979-08-02   \n",
       "\n",
       "          Location        Country   Latitude   Longitude Airport.Code  \\\n",
       "0  MOOSE CREEK, ID  United States        NaN         NaN          NaN   \n",
       "1   BRIDGEPORT, CA  United States        NaN         NaN          NaN   \n",
       "2    Saltville, VA  United States  36.922223  -81.878056          NaN   \n",
       "3       EUREKA, CA  United States        NaN         NaN          NaN   \n",
       "4       Canton, OH  United States        NaN         NaN          NaN   \n",
       "\n",
       "  Airport.Name Injury.Severity Aircraft.damage Aircraft.Category  \\\n",
       "0          NaN        Fatal(2)       Destroyed               NaN   \n",
       "1          NaN        Fatal(4)       Destroyed               NaN   \n",
       "2          NaN        Fatal(3)       Destroyed               NaN   \n",
       "3          NaN        Fatal(2)       Destroyed               NaN   \n",
       "4          NaN        Fatal(1)       Destroyed               NaN   \n",
       "\n",
       "  Registration.Number      Make     Model Amateur.Built  Number.of.Engines  \\\n",
       "0              NC6404   Stinson     108-3            No                1.0   \n",
       "1              N5069P     Piper  PA24-180            No                1.0   \n",
       "2              N5142R    Cessna      172M            No                1.0   \n",
       "3              N1168J  Rockwell       112            No                1.0   \n",
       "4               N15NY    Cessna       501            No                NaN   \n",
       "\n",
       "     Engine.Type FAR.Description Schedule Purpose.of.flight Air.carrier  \\\n",
       "0  Reciprocating             NaN      NaN          Personal         NaN   \n",
       "1  Reciprocating             NaN      NaN          Personal         NaN   \n",
       "2  Reciprocating             NaN      NaN          Personal         NaN   \n",
       "3  Reciprocating             NaN      NaN          Personal         NaN   \n",
       "4            NaN             NaN      NaN          Personal         NaN   \n",
       "\n",
       "   Total.Fatal.Injuries  Total.Serious.Injuries  Total.Minor.Injuries  \\\n",
       "0                   2.0                     0.0                   0.0   \n",
       "1                   4.0                     0.0                   0.0   \n",
       "2                   3.0                     NaN                   NaN   \n",
       "3                   2.0                     0.0                   0.0   \n",
       "4                   1.0                     2.0                   NaN   \n",
       "\n",
       "   Total.Uninjured Weather.Condition Broad.phase.of.flight   Report.Status  \\\n",
       "0              0.0               UNK                Cruise  Probable Cause   \n",
       "1              0.0               UNK               Unknown  Probable Cause   \n",
       "2              NaN               IMC                Cruise  Probable Cause   \n",
       "3              0.0               IMC                Cruise  Probable Cause   \n",
       "4              0.0               VMC              Approach  Probable Cause   \n",
       "\n",
       "  Publication.Date  \n",
       "0              NaN  \n",
       "1       19-09-1996  \n",
       "2       26-02-2007  \n",
       "3       12-09-2000  \n",
       "4       16-04-1980  "
      ]
     },
     "execution_count": 3,
     "metadata": {},
     "output_type": "execute_result"
    }
   ],
   "source": [
    "#sanity check might not need, to keep clear and concise can also use df.info()\n",
    "df.head()"
   ]
  },
  {
   "cell_type": "code",
   "execution_count": 4,
   "metadata": {},
   "outputs": [
    {
     "name": "stdout",
     "output_type": "stream",
     "text": [
      "1390\n"
     ]
    }
   ],
   "source": [
    "print(df.duplicated().sum())"
   ]
  },
  {
   "cell_type": "code",
   "execution_count": 5,
   "metadata": {},
   "outputs": [],
   "source": [
    "new_df = df.drop_duplicates(ignore_index=False)"
   ]
  },
  {
   "cell_type": "code",
   "execution_count": 6,
   "metadata": {},
   "outputs": [
    {
     "name": "stdout",
     "output_type": "stream",
     "text": [
      "0\n"
     ]
    }
   ],
   "source": [
    "print(new_df.duplicated().sum())"
   ]
  },
  {
   "cell_type": "code",
   "execution_count": 7,
   "metadata": {},
   "outputs": [
    {
     "data": {
      "text/plain": [
       "Personal                     49448\n",
       "Instructional                10601\n",
       "Unknown                       6802\n",
       "Aerial Application            4712\n",
       "Business                      4018\n",
       "Positioning                   1646\n",
       "Other Work Use                1264\n",
       "Ferry                          812\n",
       "Aerial Observation             794\n",
       "Public Aircraft                720\n",
       "Executive/corporate            553\n",
       "Flight Test                    405\n",
       "Skydiving                      182\n",
       "External Load                  123\n",
       "Public Aircraft - Federal      105\n",
       "Banner Tow                     101\n",
       "Air Race show                   99\n",
       "Public Aircraft - Local         74\n",
       "Public Aircraft - State         64\n",
       "Air Race/show                   59\n",
       "Glider Tow                      53\n",
       "Firefighting                    40\n",
       "Air Drop                        11\n",
       "ASHO                             6\n",
       "PUBS                             4\n",
       "PUBL                             1\n",
       "Name: Purpose.of.flight, dtype: int64"
      ]
     },
     "execution_count": 7,
     "metadata": {},
     "output_type": "execute_result"
    }
   ],
   "source": [
    "new_df['Purpose.of.flight'].value_counts()"
   ]
  },
  {
   "cell_type": "code",
   "execution_count": 8,
   "metadata": {},
   "outputs": [],
   "source": [
    "##new_df = new_df.loc[(new_df['Investigation.Type'] == 'Accident') \n",
    "                   #& (new_df['Country'] == 'United States')\n",
    "                    #& (new_df['Event.Date'] > '2001-11-01')\n",
    "                    #& (new_df['Aircraft.Category'] != ['Helicopter', 'Glider', 'Balloon', \n",
    "                                                       #'Gyrocraft', 'Weight-Shift', 'Powered Parachute', \n",
    "                                                       #'Ultralight', 'WSFT', 'Powered-Lift', 'Blimp', 'ULTR', \n",
    "                                                       #'Rocket'])\n",
    "                    #& (new_df['Purpose.of.flight'] != ['Instructional', 'Aerial Application', 'Positioning', \n",
    "                                                       #'Ferry', 'Aerial Observation', 'Flight Test', 'Skydiving', \n",
    "                                                       #'External Load', 'Banner Tow', 'Air Race show', \n",
    "                                                       #'Air Race/show', 'Glider Tow', 'Firefighting', 'Air Drop', \n",
    "                                                       #'ASHO'])]"
   ]
  },
  {
   "cell_type": "code",
   "execution_count": 9,
   "metadata": {},
   "outputs": [],
   "source": [
    "new_df = new_df.loc[(new_df['Investigation.Type'] == 'Accident') \n",
    "                   & (new_df['Country'] == 'United States')\n",
    "                    & (new_df['Event.Date'] > '2001-11-01')\n",
    "                    & (new_df['Aircraft.Category'] != 'Helicopter')\n",
    "                    & (new_df['Aircraft.Category'] != 'Glider')\n",
    "                    & (new_df['Aircraft.Category'] != 'Balloon')\n",
    "                    & (new_df['Aircraft.Category'] != 'Gyrocraft')\n",
    "                    & (new_df['Aircraft.Category'] != 'Weight-Shift')\n",
    "                    & (new_df['Aircraft.Category'] != 'Powered Parachute')\n",
    "                    & (new_df['Aircraft.Category'] != 'Ultralight')\n",
    "                    & (new_df['Aircraft.Category'] != 'WSFT')\n",
    "                    & (new_df['Aircraft.Category'] != 'Powered-Lift')\n",
    "                    & (new_df['Aircraft.Category'] != 'Blimp')\n",
    "                    & (new_df['Aircraft.Category'] != 'ULTR')\n",
    "                    & (new_df['Aircraft.Category'] != 'Rocket')\n",
    "                    \n",
    "                    & (new_df['Purpose.of.flight'] != 'Instructional')\n",
    "                    & (new_df['Purpose.of.flight'] != 'Aerial Application')\n",
    "                    & (new_df['Purpose.of.flight'] != 'Positioning')\n",
    "                    & (new_df['Purpose.of.flight'] != 'Ferry')\n",
    "                    & (new_df['Purpose.of.flight'] != 'Aerial Observation')\n",
    "                    & (new_df['Purpose.of.flight'] != 'Flight Test')\n",
    "                    & (new_df['Purpose.of.flight'] != 'Skydiving')\n",
    "                    & (new_df['Purpose.of.flight'] != 'External Load')\n",
    "                    & (new_df['Purpose.of.flight'] != 'Banner Tow')\n",
    "                    & (new_df['Purpose.of.flight'] != 'Air Race show')\n",
    "                    & (new_df['Purpose.of.flight'] != 'Air Race/show') \n",
    "                    & (new_df['Purpose.of.flight'] != 'Glider Tow')\n",
    "                    & (new_df['Purpose.of.flight'] != 'Firefighting') \n",
    "                    & (new_df['Purpose.of.flight'] != 'Air Drop') \n",
    "                    & (new_df['Purpose.of.flight'] != 'ASHO')  ]\n",
    "\n",
    "# this is the filter cell for the main dataset\n",
    "# write aircraft category and purpose of flight lines of code as one long line for each"
   ]
  },
  {
   "cell_type": "code",
   "execution_count": 10,
   "metadata": {},
   "outputs": [],
   "source": [
    "new_df = new_df.dropna(subset=['Make'])"
   ]
  },
  {
   "cell_type": "code",
   "execution_count": 11,
   "metadata": {},
   "outputs": [],
   "source": [
    "new_df['Make'] = new_df['Make'].str.title()"
   ]
  },
  {
   "cell_type": "code",
   "execution_count": 12,
   "metadata": {
    "scrolled": true
   },
   "outputs": [
    {
     "data": {
      "text/plain": [
       "Cessna           6091\n",
       "Piper            3720\n",
       "Beech            1470\n",
       "Mooney            434\n",
       "Boeing            378\n",
       "                 ... \n",
       "Adler               1\n",
       "Hoover              1\n",
       "Rankin              1\n",
       "Bilgri              1\n",
       "Dietrich Ryan       1\n",
       "Name: Make, Length: 3781, dtype: int64"
      ]
     },
     "execution_count": 12,
     "metadata": {},
     "output_type": "execute_result"
    }
   ],
   "source": [
    "new_df['Make'].value_counts()"
   ]
  },
  {
   "cell_type": "code",
   "execution_count": 13,
   "metadata": {},
   "outputs": [
    {
     "name": "stdout",
     "output_type": "stream",
     "text": [
      "<class 'pandas.core.frame.DataFrame'>\n",
      "Int64Index: 21429 entries, 51711 to 90347\n",
      "Data columns (total 31 columns):\n",
      " #   Column                  Non-Null Count  Dtype  \n",
      "---  ------                  --------------  -----  \n",
      " 0   Event.Id                21429 non-null  object \n",
      " 1   Investigation.Type      21429 non-null  object \n",
      " 2   Accident.Number         21429 non-null  object \n",
      " 3   Event.Date              21429 non-null  object \n",
      " 4   Location                21422 non-null  object \n",
      " 5   Country                 21429 non-null  object \n",
      " 6   Latitude                20954 non-null  object \n",
      " 7   Longitude               20946 non-null  object \n",
      " 8   Airport.Code            14972 non-null  object \n",
      " 9   Airport.Name            15083 non-null  object \n",
      " 10  Injury.Severity         21383 non-null  object \n",
      " 11  Aircraft.damage         21028 non-null  object \n",
      " 12  Aircraft.Category       15725 non-null  object \n",
      " 13  Registration.Number     21428 non-null  object \n",
      " 14  Make                    21429 non-null  object \n",
      " 15  Model                   21426 non-null  object \n",
      " 16  Amateur.Built           21419 non-null  object \n",
      " 17  Number.of.Engines       20851 non-null  float64\n",
      " 18  Engine.Type             19788 non-null  object \n",
      " 19  FAR.Description         15772 non-null  object \n",
      " 20  Schedule                1705 non-null   object \n",
      " 21  Purpose.of.flight       19925 non-null  object \n",
      " 22  Air.carrier             6608 non-null   object \n",
      " 23  Total.Fatal.Injuries    15285 non-null  float64\n",
      " 24  Total.Serious.Injuries  14738 non-null  float64\n",
      " 25  Total.Minor.Injuries    15110 non-null  float64\n",
      " 26  Total.Uninjured         18232 non-null  float64\n",
      " 27  Weather.Condition       21028 non-null  object \n",
      " 28  Broad.phase.of.flight   7879 non-null   object \n",
      " 29  Report.Status           19663 non-null  object \n",
      " 30  Publication.Date        20241 non-null  object \n",
      "dtypes: float64(5), object(26)\n",
      "memory usage: 5.2+ MB\n"
     ]
    }
   ],
   "source": [
    "new_df.info()"
   ]
  },
  {
   "cell_type": "code",
   "execution_count": 14,
   "metadata": {},
   "outputs": [
    {
     "data": {
      "text/plain": [
       "3"
      ]
     },
     "execution_count": 14,
     "metadata": {},
     "output_type": "execute_result"
    }
   ],
   "source": [
    "sum(new_df['Model'].isna())"
   ]
  },
  {
   "cell_type": "code",
   "execution_count": 15,
   "metadata": {},
   "outputs": [],
   "source": [
    "new_df = new_df.dropna(subset=['Model'])"
   ]
  },
  {
   "cell_type": "code",
   "execution_count": 16,
   "metadata": {
    "scrolled": false
   },
   "outputs": [],
   "source": [
    "##Karina complete this cell \n",
    "new_df = new_df.drop('Injury.Severity', axis =1)\n",
    "new_df = new_df.drop('Registration.Number', axis =1)\n",
    "new_df = new_df.drop('Amateur.Built', axis =1)\n",
    "new_df = new_df.drop('FAR.Description', axis =1)\n",
    "new_df = new_df.drop('Schedule', axis =1)\n",
    "new_df = new_df.drop('Air.carrier', axis =1)\n",
    "new_df = new_df.drop('Weather.Condition', axis =1)\n",
    "new_df = new_df.drop('Report.Status', axis =1)\n",
    "new_df = new_df.drop('Publication.Date', axis =1)\n",
    "new_df = new_df.drop('Total.Fatal.Injuries', axis =1)\n",
    "new_df = new_df.drop('Total.Serious.Injuries', axis =1)\n",
    "new_df = new_df.drop('Total.Minor.Injuries', axis =1)\n",
    "new_df = new_df.drop('Total.Uninjured', axis =1)\n",
    "new_df = new_df.drop('Latitude', axis =1)\n",
    "new_df = new_df.drop('Longitude', axis =1)\n",
    "new_df = new_df.drop('Airport.Code', axis =1)\n",
    "new_df = new_df.drop('Airport.Name', axis =1)\n",
    "\n",
    "## makke concise with for loop"
   ]
  },
  {
   "cell_type": "code",
   "execution_count": 17,
   "metadata": {
    "scrolled": false
   },
   "outputs": [
    {
     "data": {
      "text/html": [
       "<div>\n",
       "<style scoped>\n",
       "    .dataframe tbody tr th:only-of-type {\n",
       "        vertical-align: middle;\n",
       "    }\n",
       "\n",
       "    .dataframe tbody tr th {\n",
       "        vertical-align: top;\n",
       "    }\n",
       "\n",
       "    .dataframe thead th {\n",
       "        text-align: right;\n",
       "    }\n",
       "</style>\n",
       "<table border=\"1\" class=\"dataframe\">\n",
       "  <thead>\n",
       "    <tr style=\"text-align: right;\">\n",
       "      <th></th>\n",
       "      <th>Event.Id</th>\n",
       "      <th>Investigation.Type</th>\n",
       "      <th>Accident.Number</th>\n",
       "      <th>Event.Date</th>\n",
       "      <th>Location</th>\n",
       "      <th>Country</th>\n",
       "      <th>Aircraft.damage</th>\n",
       "      <th>Aircraft.Category</th>\n",
       "      <th>Make</th>\n",
       "      <th>Model</th>\n",
       "      <th>Number.of.Engines</th>\n",
       "      <th>Engine.Type</th>\n",
       "      <th>Purpose.of.flight</th>\n",
       "      <th>Broad.phase.of.flight</th>\n",
       "    </tr>\n",
       "  </thead>\n",
       "  <tbody>\n",
       "    <tr>\n",
       "      <th>51711</th>\n",
       "      <td>20011120X02265</td>\n",
       "      <td>Accident</td>\n",
       "      <td>SEA02LA010</td>\n",
       "      <td>2001-11-02</td>\n",
       "      <td>ONTARIO, OR</td>\n",
       "      <td>United States</td>\n",
       "      <td>Substantial</td>\n",
       "      <td>NaN</td>\n",
       "      <td>Fetherolf</td>\n",
       "      <td>Hatz CB-1</td>\n",
       "      <td>1.0</td>\n",
       "      <td>Reciprocating</td>\n",
       "      <td>Personal</td>\n",
       "      <td>Landing</td>\n",
       "    </tr>\n",
       "    <tr>\n",
       "      <th>51712</th>\n",
       "      <td>20011114X02238</td>\n",
       "      <td>Accident</td>\n",
       "      <td>NYC02LA024</td>\n",
       "      <td>2001-11-02</td>\n",
       "      <td>ARGYLE, NY</td>\n",
       "      <td>United States</td>\n",
       "      <td>Substantial</td>\n",
       "      <td>NaN</td>\n",
       "      <td>Cessna</td>\n",
       "      <td>172D</td>\n",
       "      <td>1.0</td>\n",
       "      <td>Reciprocating</td>\n",
       "      <td>Personal</td>\n",
       "      <td>Maneuvering</td>\n",
       "    </tr>\n",
       "    <tr>\n",
       "      <th>51713</th>\n",
       "      <td>20011106X02198</td>\n",
       "      <td>Accident</td>\n",
       "      <td>CHI02LA018</td>\n",
       "      <td>2001-11-02</td>\n",
       "      <td>PEORIA, IL</td>\n",
       "      <td>United States</td>\n",
       "      <td>Substantial</td>\n",
       "      <td>NaN</td>\n",
       "      <td>Piper</td>\n",
       "      <td>PA-28R-201T</td>\n",
       "      <td>1.0</td>\n",
       "      <td>Reciprocating</td>\n",
       "      <td>Personal</td>\n",
       "      <td>Landing</td>\n",
       "    </tr>\n",
       "    <tr>\n",
       "      <th>51715</th>\n",
       "      <td>20011125X02293</td>\n",
       "      <td>Accident</td>\n",
       "      <td>NYC02LA031</td>\n",
       "      <td>2001-11-03</td>\n",
       "      <td>NORTH LIMA, OH</td>\n",
       "      <td>United States</td>\n",
       "      <td>Substantial</td>\n",
       "      <td>NaN</td>\n",
       "      <td>Maule</td>\n",
       "      <td>M7-260</td>\n",
       "      <td>1.0</td>\n",
       "      <td>Reciprocating</td>\n",
       "      <td>Personal</td>\n",
       "      <td>Landing</td>\n",
       "    </tr>\n",
       "    <tr>\n",
       "      <th>51716</th>\n",
       "      <td>20011228X02462</td>\n",
       "      <td>Accident</td>\n",
       "      <td>NYC02LA021</td>\n",
       "      <td>2001-11-03</td>\n",
       "      <td>ROANOKE, VA</td>\n",
       "      <td>United States</td>\n",
       "      <td>Substantial</td>\n",
       "      <td>NaN</td>\n",
       "      <td>Piper</td>\n",
       "      <td>PA-22-108</td>\n",
       "      <td>1.0</td>\n",
       "      <td>Reciprocating</td>\n",
       "      <td>Personal</td>\n",
       "      <td>Climb</td>\n",
       "    </tr>\n",
       "  </tbody>\n",
       "</table>\n",
       "</div>"
      ],
      "text/plain": [
       "             Event.Id Investigation.Type Accident.Number  Event.Date  \\\n",
       "51711  20011120X02265           Accident      SEA02LA010  2001-11-02   \n",
       "51712  20011114X02238           Accident      NYC02LA024  2001-11-02   \n",
       "51713  20011106X02198           Accident      CHI02LA018  2001-11-02   \n",
       "51715  20011125X02293           Accident      NYC02LA031  2001-11-03   \n",
       "51716  20011228X02462           Accident      NYC02LA021  2001-11-03   \n",
       "\n",
       "             Location        Country Aircraft.damage Aircraft.Category  \\\n",
       "51711     ONTARIO, OR  United States     Substantial               NaN   \n",
       "51712      ARGYLE, NY  United States     Substantial               NaN   \n",
       "51713      PEORIA, IL  United States     Substantial               NaN   \n",
       "51715  NORTH LIMA, OH  United States     Substantial               NaN   \n",
       "51716     ROANOKE, VA  United States     Substantial               NaN   \n",
       "\n",
       "            Make        Model  Number.of.Engines    Engine.Type  \\\n",
       "51711  Fetherolf    Hatz CB-1                1.0  Reciprocating   \n",
       "51712     Cessna         172D                1.0  Reciprocating   \n",
       "51713      Piper  PA-28R-201T                1.0  Reciprocating   \n",
       "51715      Maule       M7-260                1.0  Reciprocating   \n",
       "51716      Piper    PA-22-108                1.0  Reciprocating   \n",
       "\n",
       "      Purpose.of.flight Broad.phase.of.flight  \n",
       "51711          Personal               Landing  \n",
       "51712          Personal           Maneuvering  \n",
       "51713          Personal               Landing  \n",
       "51715          Personal               Landing  \n",
       "51716          Personal                 Climb  "
      ]
     },
     "execution_count": 17,
     "metadata": {},
     "output_type": "execute_result"
    }
   ],
   "source": [
    "new_df.head()"
   ]
  },
  {
   "cell_type": "code",
   "execution_count": 18,
   "metadata": {},
   "outputs": [
    {
     "data": {
      "text/plain": [
       "0.0       76\n",
       "1.0    18236\n",
       "2.0     2474\n",
       "3.0       31\n",
       "4.0       32\n",
       "Name: Number.of.Engines, dtype: int64"
      ]
     },
     "execution_count": 18,
     "metadata": {},
     "output_type": "execute_result"
    }
   ],
   "source": [
    "new_df['Number.of.Engines'].value_counts().sort_index()"
   ]
  },
  {
   "cell_type": "code",
   "execution_count": 19,
   "metadata": {},
   "outputs": [
    {
     "data": {
      "text/plain": [
       "''"
      ]
     },
     "execution_count": 19,
     "metadata": {},
     "output_type": "execute_result"
    },
    {
     "data": {
      "image/png": "[encoded data removed]",
      "text/plain": [
       "<Figure size 720x360 with 1 Axes>"
      ]
     },
     "metadata": {
      "needs_background": "light"
     },
     "output_type": "display_data"
    }
   ],
   "source": [
    "## Karina: make a visual on # of engines vs # of accidents \n",
    "\n",
    "fig, ax = plt.subplots(figsize=(10,5))\n",
    "\n",
    "x = new_df['Number.of.Engines'].value_counts().index\n",
    "y = new_df['Number.of.Engines'].value_counts().values\n",
    "\n",
    "ax.bar(x,y)\n",
    "ax.set_title('Total Accident Count per Number of Engines')\n",
    "ax.set_xlabel('Number of Engines')\n",
    "ax.set_ylabel('Total Accident Count')\n",
    ";\n",
    "\n",
    "## avoid airplanes with one engine since airplanes with at least two engines can \n",
    "##run on the other engine as a backup. The graph shows that airplanes with a singular \n",
    "##engine have the most amount of accidents."
   ]
  },
  {
   "cell_type": "code",
   "execution_count": 20,
   "metadata": {},
   "outputs": [
    {
     "data": {
      "image/png": "[encoded data removed]",
      "text/plain": [
       "<Figure size 720x360 with 1 Axes>"
      ]
     },
     "metadata": {
      "needs_background": "light"
     },
     "output_type": "display_data"
    }
   ],
   "source": [
    "## Ermiyas: make a visual type of engine vs # of accidents\n",
    "\n",
    "fig, ax = plt.subplots(figsize=(10,5))\n",
    "x = new_df['Engine.Type'].value_counts().index\n",
    "y = new_df['Engine.Type'].value_counts().values\n",
    "ax.bar(x,y)\n",
    "ax.set_title('Engine_Type VS Accident')\n",
    "ax.set_xlabel('Engine_Type')\n",
    "ax.set_ylabel('Accident');\n",
    "\n",
    "## make title format consistent \n",
    "## avoid airplanes with reciprocating engine because the graph shows that \n",
    "## airplanes with this type of engine have the most amount of accidents."
   ]
  },
  {
   "cell_type": "code",
   "execution_count": 21,
   "metadata": {},
   "outputs": [
    {
     "data": {
      "text/plain": [
       "Number.of.Engines  Engine.Type  \n",
       "1.0                Reciprocating    16507\n",
       "2.0                Reciprocating     1260\n",
       "                   Turbo Fan          532\n",
       "                   Turbo Prop         377\n",
       "1.0                Turbo Prop         350\n",
       "                   Turbo Shaft        227\n",
       "2.0                Turbo Jet           80\n",
       "1.0                Turbo Jet           36\n",
       "2.0                Turbo Shaft         34\n",
       "3.0                Turbo Fan           23\n",
       "4.0                Turbo Fan           20\n",
       "1.0                Unknown             13\n",
       "                   Turbo Fan           12\n",
       "4.0                Reciprocating        6\n",
       "3.0                Turbo Jet            4\n",
       "2.0                Unknown              3\n",
       "1.0                Electric             1\n",
       "4.0                Turbo Prop           1\n",
       "                   Turbo Jet            1\n",
       "3.0                Reciprocating        1\n",
       "4.0                Electric             1\n",
       "0.0                Unknown              1\n",
       "dtype: int64"
      ]
     },
     "execution_count": 21,
     "metadata": {},
     "output_type": "execute_result"
    }
   ],
   "source": [
    "new_df[['Number.of.Engines', 'Engine.Type']].value_counts()\n",
    "## this is proof via rationalization"
   ]
  },
  {
   "cell_type": "code",
   "execution_count": 22,
   "metadata": {},
   "outputs": [
    {
     "data": {
      "image/png": "[encoded data removed]",
      "text/plain": [
       "<Figure size 1224x360 with 1 Axes>"
      ]
     },
     "metadata": {
      "needs_background": "light"
     },
     "output_type": "display_data"
    }
   ],
   "source": [
    "## Sangwon: make a visual for broad phase of flights vs # of accidents\n",
    "fig, ax = plt.subplots(figsize=(17,5))\n",
    "\n",
    "x = new_df['Broad.phase.of.flight'].value_counts().index\n",
    "y = new_df['Broad.phase.of.flight'].value_counts().values\n",
    "\n",
    "ax.bar(x,y)\n",
    "ax.set_title('Total Accident Count for Broad Phase of Flight')\n",
    "ax.set_xlabel('Broad Phase of Flight')\n",
    "ax.set_ylabel('Total Accident Count');\n",
    "\n",
    "#### avoid airplanes with broad phase of flight landing because the graph shows that \n",
    "## that's when the most amount of accidents occurred."
   ]
  },
  {
   "cell_type": "code",
   "execution_count": 23,
   "metadata": {},
   "outputs": [],
   "source": [
    "new_df['Make'].replace(to_replace = ['Saab-Scania', 'Saab'], value = 'Saab-Scania Ab (Saab)', inplace = True)\n",
    "new_df['Make'].replace(to_replace = ['Embraer'], value = 'Embraer S A', inplace = True)\n",
    "new_df['Make'].replace(to_replace = ['Airbus'], value = 'Airbus Industrie', inplace = True)\n",
    "new_df['Make'].replace(to_replace = ['Bombardier', 'Bombardier, Inc.'], value = 'Bombardier Inc', inplace = True)\n",
    "new_df['Make'].replace(to_replace = ['Mcdonnell Douglas', 'Douglas', 'Mcdonnell Douglas Corporation'], value = 'Mcdonnell Douglas Aircraft Co', inplace = True)\n",
    "new_df['Make'].replace(to_replace = ['Beechcraft'], value = 'Beech', inplace = True)\n",
    "new_df['Make'].replace(to_replace = ['Gulfstream'], value = 'Gulfstream Aerospace', inplace = True)\n",
    "new_df['Make'].replace(to_replace = ['Embraer-Empresa Brasileira De'], value = 'Embraer S A', inplace = True)"
   ]
  },
  {
   "cell_type": "code",
   "execution_count": 24,
   "metadata": {},
   "outputs": [],
   "source": [
    "new_df['Purpose.of.flight'].replace(to_replace = ['PUBS'], value = 'Public Aircraft - State', inplace = True)\n",
    "new_df['Purpose.of.flight'].replace(to_replace = ['PUBL'], value = 'Public Aircraft - Local', inplace = True)"
   ]
  },
  {
   "cell_type": "code",
   "execution_count": 25,
   "metadata": {},
   "outputs": [],
   "source": [
    "## Ermiyas: use groupby for make/model and # of accidents using 'Total.Injuries' and value sort\n",
    "filtered_public_df = new_df.loc[(new_df['Number.of.Engines'] > 2.0)\n",
    "           & (new_df['Engine.Type'] != 'Reciprocating')\n",
    "           & (new_df['Purpose.of.flight'] != 'Personal')\n",
    "           & (new_df['Purpose.of.flight'] != 'Business')\n",
    "           & (new_df['Purpose.of.flight'] != 'Other Work Use')\n",
    "           & (new_df['Purpose.of.flight'] != 'Executive/corporate')\n",
    "           & (new_df['Broad.phase.of.flight'] != 'Landing')\n",
    "           ]\n",
    "\n",
    "## chose 2.0 engines, reference first bar graph regarding num of engines and accidents\n",
    "## commercial planes are larger and require more engines.\n",
    "## shorten"
   ]
  },
  {
   "cell_type": "code",
   "execution_count": 26,
   "metadata": {
    "scrolled": true
   },
   "outputs": [
    {
     "data": {
      "text/plain": [
       "Make                           Number.of.Engines\n",
       "Boeing                         4.0                  16\n",
       "Mcdonnell Douglas Aircraft Co  3.0                  11\n",
       "Boeing                         3.0                   9\n",
       "Airbus Industrie               4.0                   3\n",
       "Lockheed                       4.0                   2\n",
       "Mcdonnell Douglas Aircraft Co  4.0                   1\n",
       "Dassault                       3.0                   1\n",
       "Antonov                        4.0                   1\n",
       "dtype: int64"
      ]
     },
     "execution_count": 26,
     "metadata": {},
     "output_type": "execute_result"
    }
   ],
   "source": [
    "filtered_public_df[['Make', 'Number.of.Engines']].value_counts().head(50)\n",
    "\n",
    "# Recc for commercial:\n",
    "## chose make based off of top commercial manufacturers (Boeing & Airbus)\n",
    "#1. Make: Airbus      2. Num of Engines: 4.0     "
   ]
  },
  {
   "cell_type": "code",
   "execution_count": 28,
   "metadata": {},
   "outputs": [],
   "source": [
    "## another script for private recc:\n",
    "\n",
    "filtered_private_df = new_df.loc[(new_df['Number.of.Engines'] > 1.0)\n",
    "           & (new_df['Engine.Type'] != 'Reciprocating')\n",
    "           & (new_df['Purpose.of.flight'] != 'Public Aircraft')\n",
    "           & (new_df['Purpose.of.flight'] != 'Public Aircraft - Federal')\n",
    "           & (new_df['Purpose.of.flight'] != 'Public Aircraft - State')\n",
    "           & (new_df['Purpose.of.flight'] != 'Public Aircraft - Local')\n",
    "           & (new_df['Broad.phase.of.flight'] != 'Landing')\n",
    "           ]\n",
    "## chose 1 bc we cant do more than two since private planes are smaller and do not need more engines. "
   ]
  },
  {
   "cell_type": "code",
   "execution_count": 29,
   "metadata": {},
   "outputs": [],
   "source": [
    "final_private_df = filtered_private_df.loc[(filtered_private_df['Make'] == 'Beech')\n",
    "                       |(filtered_private_df['Make'] == 'Cessna')\n",
    "                       |(filtered_private_df['Make'] == 'Bombardier Inc')\n",
    "                       |(filtered_private_df['Make'] == 'Gulfstream Aerospace')\n",
    "                        ]\n",
    "\n",
    "## chose to focus on these brands bc theyre the top performing airplane manufactures"
   ]
  },
  {
   "cell_type": "code",
   "execution_count": 30,
   "metadata": {},
   "outputs": [
    {
     "data": {
      "text/plain": [
       "Make                  Number.of.Engines\n",
       "Beech                 2.0                  151\n",
       "Cessna                2.0                  133\n",
       "Bombardier Inc        2.0                   62\n",
       "Gulfstream Aerospace  2.0                   13\n",
       "dtype: int64"
      ]
     },
     "execution_count": 30,
     "metadata": {},
     "output_type": "execute_result"
    }
   ],
   "source": [
    "final_private_df[['Make', 'Number.of.Engines']].value_counts()\n",
    "## private recc > Make: Gulfstream Aerospace  Num of Engines: 2.0  \n",
    "## chose bc "
   ]
  }
 ],
 "metadata": {
  "celltoolbar": "Create Assignment",
  "kernelspec": {
   "display_name": "Python 3",
   "language": "python",
   "name": "python3"
  },
  "language_info": {
   "codemirror_mode": {
    "name": "ipython",
    "version": 3
   },
   "file_extension": ".py",
   "mimetype": "text/x-python",
   "name": "python",
   "nbconvert_exporter": "python",
   "pygments_lexer": "ipython3",
   "version": "3.8.5"
  }
 },
 "nbformat": 4,
 "nbformat_minor": 4
}
